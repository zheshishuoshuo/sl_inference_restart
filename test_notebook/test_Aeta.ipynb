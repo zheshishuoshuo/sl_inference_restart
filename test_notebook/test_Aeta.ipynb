{
 "cells": [
  {
   "cell_type": "code",
   "execution_count": 1,
   "id": "bed48051",
   "metadata": {},
   "outputs": [],
   "source": [
    "import sys\n",
    "sys.path.append(\"../../\")  "
   ]
  },
  {
   "cell_type": "code",
   "execution_count": 6,
   "id": "6fe43861",
   "metadata": {},
   "outputs": [],
   "source": [
    "from sl_inference_restart.norm_computer.compute_norm_grid import compute_A_phys_eta"
   ]
  },
  {
   "cell_type": "code",
   "execution_count": null,
   "id": "bd3fe7d2",
   "metadata": {},
   "outputs": [
    {
     "ename": "TypeError",
     "evalue": "cannot unpack non-iterable float object",
     "output_type": "error",
     "traceback": [
      "\u001b[0;31m---------------------------------------------------------------------------\u001b[0m",
      "\u001b[0;31mTypeError\u001b[0m                                 Traceback (most recent call last)",
      "Cell \u001b[0;32mIn[7], line 1\u001b[0m\n\u001b[0;32m----> 1\u001b[0m Aeta \u001b[38;5;241m=\u001b[39m \u001b[43mcompute_A_phys_eta\u001b[49m\u001b[43m(\u001b[49m\u001b[38;5;241;43m12\u001b[39;49m\u001b[43m,\u001b[49m\u001b[43m \u001b[49m\u001b[38;5;241;43m2.04\u001b[39;49m\u001b[43m,\u001b[49m\u001b[43m \u001b[49m\u001b[38;5;241;43m0.37\u001b[39;49m\u001b[43m,\u001b[49m\u001b[43m \u001b[49m\u001b[38;5;241;43m0.1\u001b[39;49m\u001b[43m,\u001b[49m\u001b[43m \u001b[49m\u001b[38;5;241;43m0.05\u001b[39;49m\u001b[43m,\u001b[49m\u001b[43m \u001b[49m\u001b[38;5;241;43m0.5\u001b[39;49m\u001b[43m,\u001b[49m\u001b[43m \u001b[49m\u001b[38;5;241;43m0.5\u001b[39;49m\u001b[43m,\u001b[49m\u001b[43m \u001b[49m\u001b[38;5;241;43m0.5\u001b[39;49m\u001b[43m,\u001b[49m\u001b[43m \u001b[49m\u001b[38;5;241;43m0.5\u001b[39;49m\u001b[43m,\u001b[49m\u001b[43m \u001b[49m\u001b[38;5;241;43m100\u001b[39;49m\u001b[43m)\u001b[49m\n\u001b[1;32m      2\u001b[0m \u001b[38;5;28mprint\u001b[39m(Aeta)\n",
      "File \u001b[0;32m~/Github/sl_inference_restart/test_notebook/../../sl_inference_restart/norm_computer/compute_norm_grid.py:53\u001b[0m, in \u001b[0;36mcompute_A_phys_eta\u001b[0;34m(mu_DM_cnst, beta_DM, xi_DM, sigma_DM, samples, Mh_range, zl, zs, ms, sigma_m, m_lim)\u001b[0m\n\u001b[1;32m     48\u001b[0m \u001b[38;5;28;01mdef\u001b[39;00m\u001b[38;5;250m \u001b[39m\u001b[38;5;21mcompute_A_phys_eta\u001b[39m(mu_DM_cnst, beta_DM, xi_DM, sigma_DM, samples, Mh_range,\n\u001b[1;32m     49\u001b[0m                        zl\u001b[38;5;241m=\u001b[39m\u001b[38;5;241m0.3\u001b[39m, zs\u001b[38;5;241m=\u001b[39m\u001b[38;5;241m2.0\u001b[39m, ms\u001b[38;5;241m=\u001b[39m\u001b[38;5;241m26.0\u001b[39m, sigma_m\u001b[38;5;241m=\u001b[39m\u001b[38;5;241m0.1\u001b[39m, m_lim\u001b[38;5;241m=\u001b[39m\u001b[38;5;241m26.5\u001b[39m):\n\u001b[1;32m     50\u001b[0m \u001b[38;5;250m    \u001b[39m\u001b[38;5;124;03m\"\"\"\u001b[39;00m\n\u001b[1;32m     51\u001b[0m \u001b[38;5;124;03m    计算 A(η)：物理归一化因子，考虑所有先验权重\u001b[39;00m\n\u001b[1;32m     52\u001b[0m \u001b[38;5;124;03m    \"\"\"\u001b[39;00m\n\u001b[0;32m---> 53\u001b[0m     Mh_min, Mh_max \u001b[38;5;241m=\u001b[39m Mh_range\n\u001b[1;32m     54\u001b[0m     q_Mh \u001b[38;5;241m=\u001b[39m \u001b[38;5;241m1.0\u001b[39m \u001b[38;5;241m/\u001b[39m (Mh_max \u001b[38;5;241m-\u001b[39m Mh_min)\n\u001b[1;32m     56\u001b[0m     \u001b[38;5;66;03m# === 星质量分布参数 ===\u001b[39;00m\n",
      "\u001b[0;31mTypeError\u001b[0m: cannot unpack non-iterable float object"
     ]
    }
   ],
   "source": [
    "Aeta = compute_A_phys_eta(12, 2.04, 0.37, 0, 0.3, 0.5, 0.5, 0.5, 0.5, 100)\n",
    "print(Aeta)"
   ]
  },
  {
   "cell_type": "code",
   "execution_count": null,
   "id": "ca777a6e",
   "metadata": {},
   "outputs": [],
   "source": [
    "def compute_A_phys_eta(mu_DM_cnst, beta_DM, xi_DM, sigma_DM, samples, Mh_range,\n",
    "                       zl=0.3, zs=2.0, ms=26.0, sigma_m=0.1, m_lim=26.5):"
   ]
  },
  {
   "cell_type": "code",
   "execution_count": null,
   "id": "7d111646",
   "metadata": {},
   "outputs": [],
   "source": []
  },
  {
   "cell_type": "code",
   "execution_count": null,
   "id": "d4c78500",
   "metadata": {},
   "outputs": [],
   "source": []
  }
 ],
 "metadata": {
  "kernelspec": {
   "display_name": "base",
   "language": "python",
   "name": "python3"
  },
  "language_info": {
   "codemirror_mode": {
    "name": "ipython",
    "version": 3
   },
   "file_extension": ".py",
   "mimetype": "text/x-python",
   "name": "python",
   "nbconvert_exporter": "python",
   "pygments_lexer": "ipython3",
   "version": "3.12.2"
  }
 },
 "nbformat": 4,
 "nbformat_minor": 5
}
